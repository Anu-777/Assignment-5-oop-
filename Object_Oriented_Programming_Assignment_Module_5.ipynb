{
  "nbformat": 4,
  "nbformat_minor": 0,
  "metadata": {
    "colab": {
      "provenance": []
    },
    "kernelspec": {
      "name": "python3",
      "display_name": "Python 3"
    },
    "language_info": {
      "name": "python"
    }
  },
  "cells": [
    {
      "cell_type": "markdown",
      "source": [
        "**Object Oriented Programming Assignment.**"
      ],
      "metadata": {
        "id": "nhsX97yWVfDB"
      }
    },
    {
      "cell_type": "markdown",
      "source": [
        "1. What are the five key concepts of Object-Oriented Programming (OOP)?"
      ],
      "metadata": {
        "id": "1LioOTXXVwMw"
      }
    },
    {
      "cell_type": "markdown",
      "source": [
        "Answer : The Five Key Concepts of Object-Oriented Programming are:\n",
        "1. Abstraction. 2.encapsulation, 3.inheritance, 4. olymorphism."
      ],
      "metadata": {
        "id": "1Cr7h-tpV0XF"
      }
    },
    {
      "cell_type": "markdown",
      "source": [
        "2. Write a Python class for a `Car` with attributes for `make`, `model`, and `year`. Include a method to display\n",
        "the car's information.\n",
        "\n",
        "\n"
      ],
      "metadata": {
        "id": "ZI-IYIPgWoDk"
      }
    },
    {
      "cell_type": "code",
      "source": [
        "class Car(object):\n",
        "    def __init__(self, make, model, year):\n",
        "        self.make = make\n",
        "        self.model = model\n",
        "    def __str__(self):\n",
        "        return '%s %s %s' % (self.year, self.make, self.model)"
      ],
      "metadata": {
        "id": "RJyBlMAhVpsr"
      },
      "execution_count": 5,
      "outputs": []
    },
    {
      "cell_type": "code",
      "source": [
        "class Car:\n",
        "    def __init__(self, make, model, year, color):\n",
        "        \"\"\"Initialize the attributes of the car.\"\"\"\n",
        "        self.make = make\n",
        "        self.model = model\n",
        "        self.year = year\n",
        "        self.color = color\n",
        "        self.is_running = False\n",
        "\n",
        "    def start(self):\n",
        "        \"\"\"Start the car.\"\"\"\n",
        "        if not self.is_running:\n",
        "            self.is_running = True\n",
        "            print(f\"The {self.color} {self.make} {self.model} has started.\")\n",
        "        else:\n",
        "            print(f\"The {self.color} {self.make} {self.model} is already running.\")\n",
        "\n",
        "    def stop(self):\n",
        "        \"\"\"Stop the car.\"\"\"\n",
        "        if self.is_running:\n",
        "            self.is_running = False\n",
        "            print(f\"The {self.color} {self.make} {self.model} has stopped.\")\n",
        "        else:\n",
        "            print(f\"The {self.color} {self.make} {self.model} is already stopped.\")\n",
        "\n",
        "    def display_info(self):\n",
        "        \"\"\"Display information about the car.\"\"\"\n",
        "        print(f\"Car Information: {self.year} {self.color} {self.make} {self.model}\")\n",
        "\n",
        "# Example usage:\n",
        "my_car = Car(\"Toyota\", \"Camry\", 2020, \"blue\")\n",
        "my_car.display_info()  # Display car info\n",
        "my_car.start()         # Start the car\n",
        "my_car.stop()          # Stop the car"
      ],
      "metadata": {
        "colab": {
          "base_uri": "https://localhost:8080/"
        },
        "id": "Pux60SiSZBqO",
        "outputId": "1263680a-5380-4a23-97b4-f56919633306"
      },
      "execution_count": 10,
      "outputs": [
        {
          "output_type": "stream",
          "name": "stdout",
          "text": [
            "Car Information: 2020 blue Toyota Camry\n",
            "The blue Toyota Camry has started.\n",
            "The blue Toyota Camry has stopped.\n"
          ]
        }
      ]
    },
    {
      "cell_type": "markdown",
      "source": [
        "3. Explain the difference between instance methods and class methods. Provide an example of each."
      ],
      "metadata": {
        "id": "BWMHVlwDaRy-"
      }
    },
    {
      "cell_type": "markdown",
      "source": [
        "Answer : **Class :** A class is a user-defined blueprint or prototype from which objects are created. Classes provide a means of bundling data and functionality together. Creating a new class creates a new type of object, allowing new instances of that type to be made. Each class instance can have attributes attached to it for maintaining its state. Class instances can also have methods (defined by its class) for modifying its state."
      ],
      "metadata": {
        "id": "jWeItCq3aVAA"
      }
    },
    {
      "cell_type": "code",
      "source": [
        "class Person:\n",
        "\n",
        "    # init method or constructor\n",
        "    def __init__(self, name):\n",
        "        self.name = name\n",
        "\n",
        "    # Sample Method\n",
        "    def say_hi(self):\n",
        "        print('Hello, my name is', self.name)\n",
        "\n",
        "p = Person('Nikhil')\n",
        "p.say_hi()"
      ],
      "metadata": {
        "colab": {
          "base_uri": "https://localhost:8080/"
        },
        "id": "m-mWEN55Zzof",
        "outputId": "02319b97-2c71-40b4-833c-f9835b4f8bea"
      },
      "execution_count": 11,
      "outputs": [
        {
          "output_type": "stream",
          "name": "stdout",
          "text": [
            "Hello, my name is Nikhil\n"
          ]
        }
      ]
    },
    {
      "cell_type": "markdown",
      "source": [
        "**Instance Method :** Instance attributes are those attributes that are not shared by objects. Every object has its own copy of the instance attribute.\n",
        "\n",
        "```\n",
        "`# This is formatted as code`\n",
        "```\n",
        "\n"
      ],
      "metadata": {
        "id": "OMwe6j6bb7Rt"
      }
    },
    {
      "cell_type": "code",
      "source": [
        "class shape:\n",
        "\n",
        "    # Calling Constructor\n",
        "    def __init__(self, edge, color):\n",
        "        self.edge = edge\n",
        "        self.color = color\n",
        "\n",
        "    # Instance Method\n",
        "    def finEdges(self):\n",
        "        return self.edge\n",
        "\n",
        "    # Instance Method\n",
        "    def modifyEdges(self, newedge):\n",
        "        self.edge = newedge\n",
        "\n",
        "# Driver Code\n",
        "circle = shape(0, 'red')\n",
        "square = shape(4, 'blue')\n",
        "\n",
        "# Calling Instance Method\n",
        "print(\"No. of edges for circle: \"+ str(circle.finEdges()))\n",
        "\n",
        "# Calling Instance Method\n",
        "square.modifyEdges(6)\n",
        "\n",
        "print(\"No. of edges for square: \"+ str(square.finEdges()))"
      ],
      "metadata": {
        "colab": {
          "base_uri": "https://localhost:8080/"
        },
        "id": "tM6FqN3ObgcR",
        "outputId": "4e5f03ae-dca9-48e2-a24d-bd1718b5e64f"
      },
      "execution_count": 12,
      "outputs": [
        {
          "output_type": "stream",
          "name": "stdout",
          "text": [
            "No. of edges for circle: 0\n",
            "No. of edges for square: 6\n"
          ]
        }
      ]
    },
    {
      "cell_type": "markdown",
      "source": [
        "4. How does Python implement method overloading? Give an example."
      ],
      "metadata": {
        "id": "UogEdUemiDm2"
      }
    },
    {
      "cell_type": "markdown",
      "source": [
        "Answer : Method overloading is a feature of object-oriented programming where a class can have multiple methods with the same name but different parameters. To overload method, we must change the number of parameters or the type of parameters, or both.  \n"
      ],
      "metadata": {
        "id": "hXSCdsJCiRCr"
      }
    },
    {
      "cell_type": "code",
      "source": [
        "# First product method.\n",
        "# Takes two argument and print their\n",
        "# product\n",
        "\n",
        "\n",
        "def product(a, b):\n",
        "    p = a * b\n",
        "    print(p)\n",
        "\n",
        "# Second product method\n",
        "# Takes three argument and print their\n",
        "# product\n",
        "\n",
        "\n",
        "def product(a, b, c):\n",
        "    p = a * b*c\n",
        "    print(p)\n",
        "\n",
        "# Uncommenting the below line shows an error\n",
        "# product(4, 5)\n",
        "\n",
        "\n",
        "# This line will call the second product method\n",
        "product(4, 5, 5)"
      ],
      "metadata": {
        "colab": {
          "base_uri": "https://localhost:8080/"
        },
        "id": "L_vdQfFvcI5W",
        "outputId": "cdc79ee8-b780-46ce-f915-b20f740f8b70"
      },
      "execution_count": 13,
      "outputs": [
        {
          "output_type": "stream",
          "name": "stdout",
          "text": [
            "100\n"
          ]
        }
      ]
    },
    {
      "cell_type": "markdown",
      "source": [
        "Answer : Python has three types of access modifiers:\n",
        "\n",
        "Public Access Modifier: Theoretically, public methods and fields can be accessed directly by any class.\n"
      ],
      "metadata": {
        "id": "1CTcQoS0kYPC"
      }
    },
    {
      "cell_type": "code",
      "source": [
        "# program to illustrate public access modifier in a class\n",
        "\n",
        "\n",
        "class Geek:\n",
        "\n",
        "    # constructor\n",
        "    def __init__(self, name, age):\n",
        "\n",
        "        # public data members\n",
        "        self.geekName = name\n",
        "        self.geekAge = age\n",
        "\n",
        "    # public member function\n",
        "    def displayAge(self):\n",
        "\n",
        "        # accessing public data member\n",
        "        print(\"Age: \", self.geekAge)\n",
        "\n",
        "\n",
        "# creating object of the class\n",
        "obj = Geek(\"R2J\", 20)\n",
        "\n",
        "# finding all the fields and methods which are present inside obj\n",
        "print(\"List of fields and methods inside obj:\", dir(obj))\n",
        "\n",
        "# accessing public data member\n",
        "print(\"Name:\", obj.geekName)\n",
        "\n",
        "# calling public member function of the class\n",
        "obj.displayAge()"
      ],
      "metadata": {
        "colab": {
          "base_uri": "https://localhost:8080/"
        },
        "id": "845QnipVkrkn",
        "outputId": "443dfad8-f2a7-4786-931f-1b186e6cf2dd"
      },
      "execution_count": 14,
      "outputs": [
        {
          "output_type": "stream",
          "name": "stdout",
          "text": [
            "List of fields and methods inside obj: ['__class__', '__delattr__', '__dict__', '__dir__', '__doc__', '__eq__', '__format__', '__ge__', '__getattribute__', '__gt__', '__hash__', '__init__', '__init_subclass__', '__le__', '__lt__', '__module__', '__ne__', '__new__', '__reduce__', '__reduce_ex__', '__repr__', '__setattr__', '__sizeof__', '__str__', '__subclasshook__', '__weakref__', 'displayAge', 'geekAge', 'geekName']\n",
            "Name: R2J\n",
            "Age:  20\n"
          ]
        }
      ]
    },
    {
      "cell_type": "markdown",
      "source": [
        "Protected Access Modifier: Theoretically, protected methods and fields can be accessed within the same class it is declared and its subclass."
      ],
      "metadata": {
        "id": "-AKmh0phkXyL"
      }
    },
    {
      "cell_type": "code",
      "source": [
        "# program to illustrate protected access modifier in a class\n",
        "\n",
        "# super class\n",
        "class Student:\n",
        "\n",
        "    # protected data members\n",
        "    _name = None\n",
        "    _roll = None\n",
        "    _branch = None\n",
        "\n",
        "    # constructor\n",
        "    def __init__(self, name, roll, branch):\n",
        "        self._name = name\n",
        "        self._roll = roll\n",
        "        self._branch = branch\n",
        "\n",
        "    # protected member function\n",
        "    def _displayRollAndBranch(self):\n",
        "\n",
        "        # accessing protected data members\n",
        "        print(\"Roll:\", self._roll)\n",
        "        print(\"Branch:\", self._branch)\n",
        "\n",
        "# derived class\n",
        "class Geek(Student):\n",
        "\n",
        "    # constructor\n",
        "    def __init__(self, name, roll, branch):\n",
        "        Student.__init__(self, name, roll, branch)\n",
        "\n",
        "    # public member function\n",
        "    def displayDetails(self):\n",
        "\n",
        "              # accessing protected data members of super class\n",
        "        print(\"Name:\", self._name)\n",
        "\n",
        "        # accessing protected member functions of super class\n",
        "        self._displayRollAndBranch()\n",
        "\n",
        "\n",
        "stu = Student(\"Alpha\", 1234567, \"Computer Science\")\n",
        "print(dir(stu))\n",
        "\n",
        "# protected members and methods can be still accessed\n",
        "print(stu._name)\n",
        "stu._displayRollAndBranch()\n",
        "\n",
        "# Throws error\n",
        "# print(stu.name)\n",
        "# stu.displayRollAndBranch()\n",
        "\n",
        "# creating objects of the derived class\n",
        "obj = Geek(\"R2J\", 1706256, \"Information Technology\")\n",
        "print(\"\")\n",
        "print(dir(obj))\n",
        "\n",
        "# calling public member functions of the class\n",
        "obj.displayDetails()"
      ],
      "metadata": {
        "colab": {
          "base_uri": "https://localhost:8080/"
        },
        "id": "7VgZcot9k9vO",
        "outputId": "752fdda6-7e03-49f8-ed0d-30a5a0809231"
      },
      "execution_count": 15,
      "outputs": [
        {
          "output_type": "stream",
          "name": "stdout",
          "text": [
            "['__class__', '__delattr__', '__dict__', '__dir__', '__doc__', '__eq__', '__format__', '__ge__', '__getattribute__', '__gt__', '__hash__', '__init__', '__init_subclass__', '__le__', '__lt__', '__module__', '__ne__', '__new__', '__reduce__', '__reduce_ex__', '__repr__', '__setattr__', '__sizeof__', '__str__', '__subclasshook__', '__weakref__', '_branch', '_displayRollAndBranch', '_name', '_roll']\n",
            "Alpha\n",
            "Roll: 1234567\n",
            "Branch: Computer Science\n",
            "\n",
            "['__class__', '__delattr__', '__dict__', '__dir__', '__doc__', '__eq__', '__format__', '__ge__', '__getattribute__', '__gt__', '__hash__', '__init__', '__init_subclass__', '__le__', '__lt__', '__module__', '__ne__', '__new__', '__reduce__', '__reduce_ex__', '__repr__', '__setattr__', '__sizeof__', '__str__', '__subclasshook__', '__weakref__', '_branch', '_displayRollAndBranch', '_name', '_roll', 'displayDetails']\n",
            "Name: R2J\n",
            "Roll: 1706256\n",
            "Branch: Information Technology\n"
          ]
        }
      ]
    },
    {
      "cell_type": "markdown",
      "source": [
        "Protected Access Modifier:\n",
        "Theoretically, private methods and fields can be only accessed within the same class it is declared."
      ],
      "metadata": {
        "id": "3ifPUc9KkTZD"
      }
    },
    {
      "cell_type": "code",
      "source": [
        "# program to illustrate private access modifier in a class\n",
        "\n",
        "class Geek:\n",
        "\n",
        "    # private members\n",
        "    __name = None\n",
        "    __roll = None\n",
        "    __branch = None\n",
        "\n",
        "    # constructor\n",
        "    def __init__(self, name, roll, branch):\n",
        "        self.__name = name\n",
        "        self.__roll = roll\n",
        "        self.__branch = branch\n",
        "\n",
        "    # private member function\n",
        "    def __displayDetails(self):\n",
        "\n",
        "        # accessing private data members\n",
        "        print(\"Name:\", self.__name)\n",
        "        print(\"Roll:\", self.__roll)\n",
        "        print(\"Branch:\", self.__branch)\n",
        "\n",
        "    # public member function\n",
        "    def accessPrivateFunction(self):\n",
        "\n",
        "        # accessing private member function\n",
        "        self.__displayDetails()\n",
        "\n",
        "# creating object\n",
        "obj = Geek(\"R2J\", 1706256, \"Information Technology\")\n",
        "\n",
        "print(dir(obj))\n",
        "print(\"\")\n",
        "\n",
        "# Throws error\n",
        "# obj.__name\n",
        "# obj.__roll\n",
        "# obj.__branch\n",
        "# obj.__displayDetails()\n",
        "\n",
        "# To access private members of a class\n",
        "print(obj._Geek__name)\n",
        "print(obj._Geek__roll)\n",
        "print(obj._Geek__branch)\n",
        "obj._Geek__displayDetails()\n",
        "\n",
        "print(\"\")\n",
        "\n",
        "# calling public member function of the class\n",
        "obj.accessPrivateFunction()"
      ],
      "metadata": {
        "colab": {
          "base_uri": "https://localhost:8080/"
        },
        "id": "QWz61fE9ioGL",
        "outputId": "a16c6b5c-354d-4472-e8a7-bd41456eddcc"
      },
      "execution_count": 16,
      "outputs": [
        {
          "output_type": "stream",
          "name": "stdout",
          "text": [
            "['_Geek__branch', '_Geek__displayDetails', '_Geek__name', '_Geek__roll', '__class__', '__delattr__', '__dict__', '__dir__', '__doc__', '__eq__', '__format__', '__ge__', '__getattribute__', '__gt__', '__hash__', '__init__', '__init_subclass__', '__le__', '__lt__', '__module__', '__ne__', '__new__', '__reduce__', '__reduce_ex__', '__repr__', '__setattr__', '__sizeof__', '__str__', '__subclasshook__', '__weakref__', 'accessPrivateFunction']\n",
            "\n",
            "R2J\n",
            "1706256\n",
            "Information Technology\n",
            "Name: R2J\n",
            "Roll: 1706256\n",
            "Branch: Information Technology\n",
            "\n",
            "Name: R2J\n",
            "Roll: 1706256\n",
            "Branch: Information Technology\n"
          ]
        }
      ]
    },
    {
      "cell_type": "markdown",
      "source": [
        "6. Describe the five types of inheritance in Python. Provide a simple example of multiple inheritance."
      ],
      "metadata": {
        "id": "ZgY2Xu7opOMI"
      }
    },
    {
      "cell_type": "markdown",
      "source": [
        "Answers : Types of Inheritance depend upon the number of child and parent classes involved. There are four types of inheritance in Python:"
      ],
      "metadata": {
        "id": "CHpWfte4pNfR"
      }
    },
    {
      "cell_type": "markdown",
      "source": [
        "Single Inheritance:\n",
        "Single inheritance enables a derived class to inherit properties from a single parent class, thus enabling code reusability and the addition of new features to existing code."
      ],
      "metadata": {
        "id": "CV-xCYaapUWZ"
      }
    },
    {
      "cell_type": "code",
      "source": [
        "# Python program to demonstrate\n",
        "# single inheritance\n",
        "\n",
        "# Base class\n",
        "class Parent:\n",
        "    def func1(self):\n",
        "        print(\"This function is in parent class.\")\n",
        "\n",
        "# Derived class\n",
        "\n",
        "\n",
        "class Child(Parent):\n",
        "    def func2(self):\n",
        "        print(\"This function is in child class.\")\n",
        "\n",
        "\n",
        "# Driver's code\n",
        "object = Child()\n",
        "object.func1()\n",
        "object.func2()"
      ],
      "metadata": {
        "colab": {
          "base_uri": "https://localhost:8080/"
        },
        "id": "XbmUJI3ToquB",
        "outputId": "2b0df3a6-d9e8-47bd-d218-7a8d54ca134e"
      },
      "execution_count": 17,
      "outputs": [
        {
          "output_type": "stream",
          "name": "stdout",
          "text": [
            "This function is in parent class.\n",
            "This function is in child class.\n"
          ]
        }
      ]
    },
    {
      "cell_type": "markdown",
      "source": [
        "Multiple Inheritance:\n",
        "When a class can be derived from more than one base class this type of inheritance is called multiple inheritances. In multiple inheritances, all the features of the base classes are inherited into the derived class."
      ],
      "metadata": {
        "id": "XDaagDaopycZ"
      }
    },
    {
      "cell_type": "code",
      "source": [
        "# Python program to demonstrate\n",
        "# multiple inheritance\n",
        "\n",
        "# Base class1\n",
        "class Mother:\n",
        "    mothername = \"\"\n",
        "\n",
        "    def mother(self):\n",
        "        print(self.mothername)\n",
        "\n",
        "# Base class2\n",
        "\n",
        "\n",
        "class Father:\n",
        "    fathername = \"\"\n",
        "\n",
        "    def father(self):\n",
        "        print(self.fathername)\n",
        "\n",
        "# Derived class\n",
        "\n",
        "\n",
        "class Son(Mother, Father):\n",
        "    def parents(self):\n",
        "        print(\"Father :\", self.fathername)\n",
        "        print(\"Mother :\", self.mothername)\n",
        "\n",
        "\n",
        "# Driver's code\n",
        "s1 = Son()\n",
        "s1.fathername = \"RAM\"\n",
        "s1.mothername = \"SITA\"\n",
        "s1.parents()"
      ],
      "metadata": {
        "colab": {
          "base_uri": "https://localhost:8080/"
        },
        "id": "jiH2j3X9pvih",
        "outputId": "fb344e3c-3320-4ed7-f3d6-3647b97c20f6"
      },
      "execution_count": 18,
      "outputs": [
        {
          "output_type": "stream",
          "name": "stdout",
          "text": [
            "Father : RAM\n",
            "Mother : SITA\n"
          ]
        }
      ]
    },
    {
      "cell_type": "markdown",
      "source": [
        "Multilevel Inheritance :\n",
        "In multilevel inheritance, features of the base class and the derived class are further inherited into the new derived class. This is similar to a relationship representing a child and a grandfather."
      ],
      "metadata": {
        "id": "kCa_Ub8dp4a9"
      }
    },
    {
      "cell_type": "code",
      "source": [
        "# Python program to demonstrate\n",
        "# multilevel inheritance\n",
        "\n",
        "# Base class\n",
        "\n",
        "\n",
        "class Grandfather:\n",
        "\n",
        "    def __init__(self, grandfathername):\n",
        "        self.grandfathername = grandfathername\n",
        "\n",
        "# Intermediate class\n",
        "\n",
        "\n",
        "class Father(Grandfather):\n",
        "    def __init__(self, fathername, grandfathername):\n",
        "        self.fathername = fathername\n",
        "\n",
        "        # invoking constructor of Grandfather class\n",
        "        Grandfather.__init__(self, grandfathername)\n",
        "\n",
        "# Derived class\n",
        "\n",
        "\n",
        "class Son(Father):\n",
        "    def __init__(self, sonname, fathername, grandfathername):\n",
        "        self.sonname = sonname\n",
        "\n",
        "        # invoking constructor of Father class\n",
        "        Father.__init__(self, fathername, grandfathername)\n",
        "\n",
        "    def print_name(self):\n",
        "        print('Grandfather name :', self.grandfathername)\n",
        "        print(\"Father name :\", self.fathername)\n",
        "        print(\"Son name :\", self.sonname)\n",
        "\n",
        "\n",
        "#  Driver code\n",
        "s1 = Son('Prince', 'Rampal', 'Lal mani')\n",
        "print(s1.grandfathername)\n",
        "s1.print_name()"
      ],
      "metadata": {
        "colab": {
          "base_uri": "https://localhost:8080/"
        },
        "id": "s_CmuNLsp1mL",
        "outputId": "1e42e3fb-61c9-4a4e-9fea-9ce40dbdafb6"
      },
      "execution_count": 19,
      "outputs": [
        {
          "output_type": "stream",
          "name": "stdout",
          "text": [
            "Lal mani\n",
            "Grandfather name : Lal mani\n",
            "Father name : Rampal\n",
            "Son name : Prince\n"
          ]
        }
      ]
    },
    {
      "cell_type": "markdown",
      "source": [
        "Hierarchical Inheritance:\n",
        "When more than one derived class are created from a single base this type of inheritance is called hierarchical inheritance. In this program, we have a parent (base) class and two child (derived) classes."
      ],
      "metadata": {
        "id": "2dpUsxLep-Ct"
      }
    },
    {
      "cell_type": "code",
      "source": [
        "# Python program to demonstrate\n",
        "# Hierarchical inheritance\n",
        "\n",
        "\n",
        "# Base class\n",
        "class Parent:\n",
        "    def func1(self):\n",
        "        print(\"This function is in parent class.\")\n",
        "\n",
        "# Derived class1\n",
        "\n",
        "\n",
        "class Child1(Parent):\n",
        "    def func2(self):\n",
        "        print(\"This function is in child 1.\")\n",
        "\n",
        "# Derivied class2\n",
        "\n",
        "\n",
        "class Child2(Parent):\n",
        "    def func3(self):\n",
        "        print(\"This function is in child 2.\")\n",
        "\n",
        "\n",
        "# Driver's code\n",
        "object1 = Child1()\n",
        "object2 = Child2()\n",
        "object1.func1()\n",
        "object1.func2()\n",
        "object2.func1()\n",
        "object2.func3()"
      ],
      "metadata": {
        "colab": {
          "base_uri": "https://localhost:8080/"
        },
        "id": "ZQWY-TR2p7rT",
        "outputId": "c4425526-b0bc-4472-afd0-0bf99968134c"
      },
      "execution_count": 20,
      "outputs": [
        {
          "output_type": "stream",
          "name": "stdout",
          "text": [
            "This function is in parent class.\n",
            "This function is in child 1.\n",
            "This function is in parent class.\n",
            "This function is in child 2.\n"
          ]
        }
      ]
    },
    {
      "cell_type": "markdown",
      "source": [
        "Hybrid Inheritance:\n",
        "Inheritance consisting of multiple types of inheritance is called hybrid inheritance."
      ],
      "metadata": {
        "id": "4AUPxL5yqEOo"
      }
    },
    {
      "cell_type": "code",
      "source": [
        "# Python program to demonstrate\n",
        "# hybrid inheritance\n",
        "\n",
        "\n",
        "class School:\n",
        "    def func1(self):\n",
        "        print(\"This function is in school.\")\n",
        "\n",
        "\n",
        "class Student1(School):\n",
        "    def func2(self):\n",
        "        print(\"This function is in student 1. \")\n",
        "\n",
        "\n",
        "class Student2(School):\n",
        "    def func3(self):\n",
        "        print(\"This function is in student 2.\")\n",
        "\n",
        "\n",
        "class Student3(Student1, School):\n",
        "    def func4(self):\n",
        "        print(\"This function is in student 3.\")\n",
        "\n",
        "\n",
        "# Driver's code\n",
        "object = Student3()\n",
        "object.func1()\n",
        "object.func2()"
      ],
      "metadata": {
        "colab": {
          "base_uri": "https://localhost:8080/"
        },
        "id": "n5kKj4ZSqA7z",
        "outputId": "1af2d7b3-3457-4ae8-a8f4-f1ce51b36c46"
      },
      "execution_count": 21,
      "outputs": [
        {
          "output_type": "stream",
          "name": "stdout",
          "text": [
            "This function is in school.\n",
            "This function is in student 1. \n"
          ]
        }
      ]
    },
    {
      "cell_type": "markdown",
      "source": [
        "7. What is the Method Resolution Order (MRO) in Python? How can you retrieve it programmatically?"
      ],
      "metadata": {
        "id": "LZtUzUWJqP-s"
      }
    },
    {
      "cell_type": "markdown",
      "source": [
        "Answer : Method Resolution Order :\n",
        "Method Resolution Order(MRO) it denotes the way a programming language resolves a method or attribute. Python supports classes inheriting from other classes. The class being inherited is called the Parent or Superclass, while the class that inherits is called the Child or Subclass. In python, method resolution order defines the order in which the base classes are searched when executing a method. First, the method or attribute is searched within a class and then it follows the order we specified while inheriting. This order is also called Linearization of a class and set of rules are called MRO(Method Resolution Order). While inheriting from another class, the interpreter needs a way to resolve the methods that are being called via an instance. Thus we need the method resolution order. For Example"
      ],
      "metadata": {
        "id": "fceEYk8-qxkZ"
      }
    },
    {
      "cell_type": "markdown",
      "source": [
        "8. Create an abstract base class `Shape` with an abstract method `area()`. Then create two subclasses\n",
        "`Circle` and `Rectangle` that implement the `area()` method."
      ],
      "metadata": {
        "id": "EdBLu6EOwGPg"
      }
    },
    {
      "cell_type": "markdown",
      "source": [
        "Answer : works by decorating methods of the base class as an abstract and then registering concrete classes as implementations of the abstract base. A method becomes abstract when decorated with the keyword @abstractmethod.\n",
        "This code defines an abstract base class called “Polygon” using the ABC (Abstract Base Class) module in Python. The “Polygon” class has an abstract method called “noofsides” that needs to be implemented by its subclasses.\n",
        "\n",
        "There are four subclasses of “Polygon” defined: “Triangle,” “Pentagon,” “Hexagon,” and “Quadrilateral.” Each of these subclasses overrides the “noofsides” method and provides its own implementation by printing the number of sides it has.\n",
        "\n",
        "In the driver code, instances of each subclass are created, and the “noofsides” method is called on each instance to display the number of sides specific to that shape."
      ],
      "metadata": {
        "id": "wBpFLQGnwM2D"
      }
    },
    {
      "cell_type": "code",
      "source": [
        "# Python program showing\n",
        "# abstract base class work\n",
        "from abc import ABC, abstractmethod\n",
        "\n",
        "\n",
        "class Polygon(ABC):\n",
        "\n",
        "    @abstractmethod\n",
        "    def noofsides(self):\n",
        "        pass\n",
        "\n",
        "\n",
        "class Triangle(Polygon):\n",
        "\n",
        "    # overriding abstract method\n",
        "    def noofsides(self):\n",
        "        print(\"I have 3 sides\")\n",
        "\n",
        "\n",
        "class Pentagon(Polygon):\n",
        "\n",
        "    # overriding abstract method\n",
        "    def noofsides(self):\n",
        "        print(\"I have 5 sides\")\n",
        "\n",
        "\n",
        "class Hexagon(Polygon):\n",
        "\n",
        "    # overriding abstract method\n",
        "    def noofsides(self):\n",
        "        print(\"I have 6 sides\")\n",
        "\n",
        "\n",
        "class Quadrilateral(Polygon):\n",
        "\n",
        "    # overriding abstract method\n",
        "    def noofsides(self):\n",
        "        print(\"I have 4 sides\")\n",
        "\n",
        "\n",
        "# Driver code\n",
        "R = Triangle()\n",
        "R.noofsides()\n",
        "\n",
        "K = Quadrilateral()\n",
        "K.noofsides()\n",
        "\n",
        "R = Pentagon()\n",
        "R.noofsides()\n",
        "\n",
        "K = Hexagon()\n",
        "K.noofsides()"
      ],
      "metadata": {
        "colab": {
          "base_uri": "https://localhost:8080/"
        },
        "id": "hSEUpiXqrVRw",
        "outputId": "7d4e7dec-ffd5-4341-9cf5-4a356a991748"
      },
      "execution_count": 29,
      "outputs": [
        {
          "output_type": "stream",
          "name": "stdout",
          "text": [
            "I have 3 sides\n",
            "I have 4 sides\n",
            "I have 5 sides\n",
            "I have 6 sides\n"
          ]
        }
      ]
    },
    {
      "cell_type": "markdown",
      "source": [
        "9. Demonstrate polymorphism by creating a function that can work with different shape objects to calculate\n",
        "and print their areas."
      ],
      "metadata": {
        "id": "MYnRQIgtwckQ"
      }
    },
    {
      "cell_type": "markdown",
      "source": [
        "Answer :  The word polymorphism means having many forms. In programming, polymorphism means the same function name (but different signatures) being used for different types. The key difference is the data types and number of arguments used in function.\n",
        "\n",
        "Example of inbuilt polymorphic functions:"
      ],
      "metadata": {
        "id": "OkaU6vYUwnup"
      }
    },
    {
      "cell_type": "code",
      "source": [
        "# Python program to demonstrate in-built poly-\n",
        "# morphic functions\n",
        "\n",
        "# len() being used for a string\n",
        "print(len(\"geeks\"))\n",
        "\n",
        "# len() being used for a list\n",
        "print(len([10, 20, 30]))"
      ],
      "metadata": {
        "colab": {
          "base_uri": "https://localhost:8080/"
        },
        "id": "u1DavXxzwW7t",
        "outputId": "1965e0ac-bcca-4a5a-9d5a-95209442e7a8"
      },
      "execution_count": 30,
      "outputs": [
        {
          "output_type": "stream",
          "name": "stdout",
          "text": [
            "5\n",
            "3\n"
          ]
        }
      ]
    },
    {
      "cell_type": "markdown",
      "source": [
        "10. Implement encapsulation in a `BankAccount` class with private attributes for `balance` and\n",
        "`account_number`. Include methods for deposit, withdrawal, and balance inquiry."
      ],
      "metadata": {
        "id": "xGxO9vMTxG5p"
      }
    },
    {
      "cell_type": "markdown",
      "source": [
        "Answer : First of all, define class Bankacccount. This step is followed by defining a function using __init__. It is run as soon as an object of a class is instantiated. This __init__ method is useful to do any initialization you want to do with object, then we have the default argument self."
      ],
      "metadata": {
        "id": "EQutDLUexf5g"
      }
    },
    {
      "cell_type": "code",
      "source": [
        "\n",
        "# BankAccount class\n",
        "class Bankaccount:\n",
        "    def __init__(self):\n",
        "        pass"
      ],
      "metadata": {
        "id": "-MK8SNNow8Y3"
      },
      "execution_count": 41,
      "outputs": []
    },
    {
      "cell_type": "code",
      "source": [
        "# Function to deposit amount\n",
        "def deposit(self):\n",
        "        amount = float(input(\"Enter amount to be deposited: \"))\n",
        "        self.balance += amount\n",
        "        print(\"\\n Amount Deposited:\", amount)"
      ],
      "metadata": {
        "id": "d3PZCXjGxlww"
      },
      "execution_count": 33,
      "outputs": []
    },
    {
      "cell_type": "code",
      "source": [
        "# Function to withdraw the amount\n",
        "def withdraw(self):\n",
        "        amount = float(input(\"Enter amount to be withdrawn: \"))\n",
        "        if self.balance >= amount:\n",
        "            self.balance -= amount\n",
        "            print(\"\\n You Withdrew:\", amount)\n",
        "        else:\n",
        "            print(\"\\n Insufficient balance  \")"
      ],
      "metadata": {
        "id": "mnXMX4Qvxz__"
      },
      "execution_count": 35,
      "outputs": []
    },
    {
      "cell_type": "code",
      "source": [
        "\n",
        "# Function to display the amount\n",
        "def display(self):\n",
        "        print(\"\\n Net Available Balance =\", self.balance)"
      ],
      "metadata": {
        "id": "ynHWO7b_x7dN"
      },
      "execution_count": 36,
      "outputs": []
    },
    {
      "cell_type": "markdown",
      "source": [
        "Below is the implementation:"
      ],
      "metadata": {
        "id": "XN_htrMlyBDB"
      }
    },
    {
      "cell_type": "code",
      "source": [
        "# Python program to create Bankaccount class\n",
        "# with both a deposit() and a withdraw() function\n",
        "class Bank_Account:\n",
        "    def __init__(self):\n",
        "        self.balance=0\n",
        "        print(\"Hello!!! Welcome to the Deposit & Withdrawal Machine\")\n",
        "\n",
        "    def deposit(self):\n",
        "        amount=float(input(\"Enter amount to be Deposited: \"))\n",
        "        self.balance += amount\n",
        "        print(\"\\n Amount Deposited:\",amount)\n",
        "\n",
        "    def withdraw(self):\n",
        "        amount = float(input(\"Enter amount to be Withdrawn: \"))\n",
        "        if self.balance>=amount:\n",
        "            self.balance-=amount\n",
        "            print(\"\\n You Withdrew:\", amount)\n",
        "        else:\n",
        "            print(\"\\n Insufficient balance  \")\n",
        "\n",
        "    def display(self):\n",
        "        print(\"\\n Net Available Balance=\",self.balance)\n",
        "\n",
        "# Driver code\n",
        "\n",
        "# creating an object of class\n",
        "s = Bank_Account()\n",
        "\n",
        "# Calling functions with that class object\n",
        "s.deposit()\n",
        "s.withdraw()\n",
        "s.display()"
      ],
      "metadata": {
        "colab": {
          "base_uri": "https://localhost:8080/"
        },
        "id": "WMkPa7vZx-Qb",
        "outputId": "f761bc47-37be-4faf-8c2f-6b2b05386ec6"
      },
      "execution_count": 37,
      "outputs": [
        {
          "output_type": "stream",
          "name": "stdout",
          "text": [
            "Hello!!! Welcome to the Deposit & Withdrawal Machine\n",
            "Enter amount to be Deposited: 1000\n",
            "\n",
            " Amount Deposited: 1000.0\n",
            "Enter amount to be Withdrawn: 500\n",
            "\n",
            " You Withdrew: 500.0\n",
            "\n",
            " Net Available Balance= 500.0\n"
          ]
        }
      ]
    },
    {
      "cell_type": "markdown",
      "source": [
        "12. Create a decorator that measures and prints the execution time of a function."
      ],
      "metadata": {
        "id": "d3X1GdMa1S5v"
      }
    },
    {
      "cell_type": "markdown",
      "source": [
        "Answer : Decorator: A decorator is used to supercharge or modify a function. A decorator is a higher-order function that wraps another function and enhances it or changes it.\n",
        "\n",
        "Example :\n",
        "\n",
        "The best way to explain what it is by coding our own decorator. Suppose, you want to print * 10 times before and after the output of some function. It would be very inconvenient to use print statements in every function again and again. We can do this efficiently with the help of a decorator."
      ],
      "metadata": {
        "id": "JYav-Sz01AUy"
      }
    },
    {
      "cell_type": "markdown",
      "source": [],
      "metadata": {
        "id": "eAR8BPs307iK"
      }
    },
    {
      "cell_type": "code",
      "source": [
        "def my_decorator(func):\n",
        "    def wrapper_function(*args, **kwargs):\n",
        "        print(\"*\"*10)\n",
        "        func(*args,  **kwargs)\n",
        "        print(\"*\"*10)\n",
        "    return wrapper_function\n",
        "\n",
        "\n",
        "def say_hello():\n",
        "    print(\"Hello Geeks!\")\n",
        "\n",
        "@my_decorator\n",
        "def say_bye():\n",
        "    print(\"Bye Geeks!\")\n",
        "\n",
        "\n",
        "say_hello = my_decorator(say_hello)\n",
        "say_hello()\n",
        "say_bye()"
      ],
      "metadata": {
        "colab": {
          "base_uri": "https://localhost:8080/"
        },
        "id": "tXU7cn95yG3D",
        "outputId": "4d38abb2-53ef-40a9-ef4b-c59a424d73e1"
      },
      "execution_count": 42,
      "outputs": [
        {
          "output_type": "stream",
          "name": "stdout",
          "text": [
            "**********\n",
            "Hello Geeks!\n",
            "**********\n",
            "**********\n",
            "Bye Geeks!\n",
            "**********\n"
          ]
        }
      ]
    },
    {
      "cell_type": "markdown",
      "source": [
        "13. Explain the concept of the Diamond Problem in multiple inheritance. How does Python resolve it?"
      ],
      "metadata": {
        "id": "z2PdsR0o1nuu"
      }
    },
    {
      "cell_type": "markdown",
      "source": [
        "Answer : Multiple Inheritance\n",
        "When a class is derived from more than one base class it is called multiple Inheritance. The derived class inherits all the features of the base case."
      ],
      "metadata": {
        "id": "5hwHySwO2IuV"
      }
    },
    {
      "cell_type": "code",
      "source": [
        "# Python Program to depict multiple inheritance\n",
        "# when we try to call m of Class1 from both m of\n",
        "# Class2 and m of Class3\n",
        "\n",
        "class Class1:\n",
        "    def m(self):\n",
        "        print(\"In Class1\")\n",
        "\n",
        "class Class2(Class1):\n",
        "    def m(self):\n",
        "        print(\"In Class2\")\n",
        "        Class1.m(self)\n",
        "\n",
        "class Class3(Class1):\n",
        "    def m(self):\n",
        "        print(\"In Class3\")\n",
        "        Class1.m(self)\n",
        "\n",
        "class Class4(Class2, Class3):\n",
        "    def m(self):\n",
        "        print(\"In Class4\")\n",
        "        Class2.m(self)\n",
        "        Class3.m(self)\n",
        "\n",
        "obj = Class4()\n",
        "obj.m()"
      ],
      "metadata": {
        "colab": {
          "base_uri": "https://localhost:8080/"
        },
        "id": "omYhov-52Ua0",
        "outputId": "74b0da29-b865-4182-9cbc-8f91921f879e"
      },
      "execution_count": 46,
      "outputs": [
        {
          "output_type": "stream",
          "name": "stdout",
          "text": [
            "In Class4\n",
            "In Class2\n",
            "In Class1\n",
            "In Class3\n",
            "In Class1\n"
          ]
        }
      ]
    },
    {
      "cell_type": "markdown",
      "source": [
        "14. Write a class method that keeps track of the number of instances created from a class."
      ],
      "metadata": {
        "id": "HQYLPF4J2tVp"
      }
    },
    {
      "cell_type": "markdown",
      "source": [
        "Answer : Instances of a class mean the objects created for a particular class. A single class can have multiple objects of it. Here, we will find the count of the number of instances of a class in Python.\n",
        "\n",
        "Approach:\n",
        "\n",
        "Whenever an object is created, the constructor of that particular class is called.\n",
        "Constructor is a function whose name is the same as that of class name and it doesn’t have any return type. A constructor is used to initialize the variables of a class.\n",
        "Whenever a constructor is called which means a new object is created, we just have to increment a counter that will keep track of the no. of objects that particular class has."
      ],
      "metadata": {
        "id": "bYRgX4P13Q5C"
      }
    },
    {
      "cell_type": "code",
      "source": [
        "\n",
        "\n",
        "# code\n",
        "class geeks:\n",
        "\n",
        "    # this is used to print the number\n",
        "    # of instances of a class\n",
        "    counter = 0\n",
        "\n",
        "    # constructor of geeks class\n",
        "    def __init__(self):\n",
        "\n",
        "        # increment\n",
        "        geeks.counter += 1\n",
        "\n",
        "\n",
        "# object or instance of geeks class\n",
        "g1 = geeks()\n",
        "g2 = geeks()\n",
        "g3 = geeks()\n",
        "print(geeks.counter)"
      ],
      "metadata": {
        "colab": {
          "base_uri": "https://localhost:8080/"
        },
        "id": "IM8occKR2nw_",
        "outputId": "c893f0e2-a4ab-4b20-e3cd-8766bfa7ee59"
      },
      "execution_count": 47,
      "outputs": [
        {
          "output_type": "stream",
          "name": "stdout",
          "text": [
            "3\n"
          ]
        }
      ]
    },
    {
      "cell_type": "markdown",
      "source": [
        "15. Implement a static method in a class that checks if a given year is a leap year."
      ],
      "metadata": {
        "id": "Mv5mxKeN3ZEN"
      }
    },
    {
      "cell_type": "markdown",
      "source": [
        "Answer : A leap year is a year that contains an additional day, February 29th, making it 366 days long instead of the usual 365 days. Leap years are necessary to keep our calendar in alignment with the Earth’s revolutions around the Sun.\n",
        "\n",
        "A year is a leap year if “any one of ” the following conditions are satisfied:\n",
        "\n",
        "The year is multiple of 400.\n",
        "The year is a multiple of 4 and not a multiple of 100."
      ],
      "metadata": {
        "id": "n3bm99hx3m--"
      }
    },
    {
      "cell_type": "code",
      "source": [
        "# Python3 implementation to check\n",
        "# if the year is a leap year\n",
        "# using macros\n",
        "\n",
        "# Macro to check if a year\n",
        "# is a leap year\n",
        "def ISLP(y):\n",
        "  if((y % 400 == 0) or\n",
        "     (y % 100 != 0) and\n",
        "     (y % 4 == 0)):\n",
        "    return 1;\n",
        "  else:\n",
        "    return 0;\n",
        "\n",
        "# Driver code\n",
        "if __name__=='__main__':\n",
        "\n",
        "  year = 2020;\n",
        "  print(ISLP(year));\n",
        "\n",
        "  # This code is contributed by  Pratham76."
      ],
      "metadata": {
        "colab": {
          "base_uri": "https://localhost:8080/"
        },
        "id": "JWZg9sQI3WEU",
        "outputId": "da849c3b-4862-4242-e616-ff95acc83467"
      },
      "execution_count": 48,
      "outputs": [
        {
          "output_type": "stream",
          "name": "stdout",
          "text": [
            "1\n"
          ]
        }
      ]
    }
  ]
}